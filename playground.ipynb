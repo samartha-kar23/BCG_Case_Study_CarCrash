{
 "cells": [
  {
   "cell_type": "code",
   "execution_count": 2,
   "id": "be74b05f",
   "metadata": {},
   "outputs": [],
   "source": [
    "from pyspark.sql import SparkSession, Window\n",
    "from pyspark.sql.functions import *"
   ]
  },
  {
   "cell_type": "code",
   "execution_count": 3,
   "id": "3856da68",
   "metadata": {},
   "outputs": [
    {
     "name": "stderr",
     "output_type": "stream",
     "text": [
      "21/07/11 16:23:01 WARN Utils: Your hostname, AS-MAC-0048.local resolves to a loopback address: 127.0.0.1; using 192.168.186.161 instead (on interface en0)\n",
      "21/07/11 16:23:01 WARN Utils: Set SPARK_LOCAL_IP if you need to bind to another address\n",
      "21/07/11 16:23:01 WARN NativeCodeLoader: Unable to load native-hadoop library for your platform... using builtin-java classes where applicable\n",
      "Using Spark's default log4j profile: org/apache/spark/log4j-defaults.properties\n",
      "Setting default log level to \"WARN\".\n",
      "To adjust logging level use sc.setLogLevel(newLevel). For SparkR, use setLogLevel(newLevel).\n"
     ]
    }
   ],
   "source": [
    "spark = SparkSession \\\n",
    "        .builder \\\n",
    "        .master(\"local\")\\\n",
    "        .appName(\"USVehicleAccidentAnalysis\") \\\n",
    "        .getOrCreate()"
   ]
  },
  {
   "cell_type": "code",
   "execution_count": 294,
   "id": "01bcd28f",
   "metadata": {},
   "outputs": [
    {
     "name": "stdout",
     "output_type": "stream",
     "text": [
      "root\n",
      " |-- DRVR_ZIP: string (nullable = true)\n",
      " |-- count: long (nullable = false)\n",
      "\n"
     ]
    }
   ],
   "source": [
    "df.printSchema()"
   ]
  },
  {
   "cell_type": "code",
   "execution_count": 291,
   "id": "5603e3cf",
   "metadata": {},
   "outputs": [],
   "source": [
    "spark.stop()"
   ]
  },
  {
   "cell_type": "code",
   "execution_count": 119,
   "id": "78a57275",
   "metadata": {},
   "outputs": [
    {
     "name": "stdout",
     "output_type": "stream",
     "text": [
      "root\n",
      " |-- CRASH_ID: string (nullable = true)\n",
      " |-- UNIT_NBR: string (nullable = true)\n",
      " |-- PRSN_NBR: string (nullable = true)\n",
      " |-- CHARGE: string (nullable = true)\n",
      " |-- CITATION_NBR: string (nullable = true)\n",
      "\n"
     ]
    }
   ],
   "source": [
    "df_charges.printSchema()"
   ]
  },
  {
   "cell_type": "code",
   "execution_count": 5,
   "id": "9386e276",
   "metadata": {},
   "outputs": [
    {
     "name": "stderr",
     "output_type": "stream",
     "text": [
      "                                                                                \r"
     ]
    }
   ],
   "source": [
    "df_charges = spark.read.csv(\"Data/Charges_use.csv\", header=True)\n",
    "df_damages = spark.read.csv(\"Data/Damages_use.csv\", header=True)\n",
    "df_endorse = spark.read.csv(\"Data/Endorse_use.csv\", header=True)\n",
    "df_pp = spark.read.csv(\"Data/Primary_Person_use.csv\", header=True)\n",
    "df_Units = spark.read.csv(\"Data/Units_use.csv\", header=True)\n",
    "df_restrict = spark.read.csv(\"Data/Restrict_use.csv\", header=True)"
   ]
  },
  {
   "cell_type": "code",
   "execution_count": 23,
   "id": "f6e7d4d2",
   "metadata": {},
   "outputs": [
    {
     "name": "stdout",
     "output_type": "stream",
     "text": [
      "+------------+\n",
      "|VEH_COLOR_ID|\n",
      "+------------+\n",
      "|RED         |\n",
      "|TEA         |\n",
      "|BLK         |\n",
      "|ONG         |\n",
      "|YEL         |\n",
      "|GLD         |\n",
      "|NA          |\n",
      "|98          |\n",
      "|99          |\n",
      "|CAM         |\n",
      "|BRZ         |\n",
      "|TRQ         |\n",
      "|SIL         |\n",
      "|CPR         |\n",
      "|BRO         |\n",
      "|PLE         |\n",
      "|BLU         |\n",
      "|MAR         |\n",
      "|BGE         |\n",
      "|PNK         |\n",
      "|WHI         |\n",
      "|TAN         |\n",
      "|MUL         |\n",
      "|GRN         |\n",
      "|GRY         |\n",
      "+------------+\n",
      "\n"
     ]
    }
   ],
   "source": [
    "df_Units.select(\"VEH_COLOR_ID\").distinct().show(100, truncate = False)"
   ]
  },
  {
   "cell_type": "code",
   "execution_count": 37,
   "id": "79f38b49",
   "metadata": {},
   "outputs": [
    {
     "name": "stderr",
     "output_type": "stream",
     "text": [
      "\r",
      "[Stage 141:=================>                                    (66 + 2) / 200]\r",
      "\r",
      "[Stage 141:================================>                    (122 + 1) / 200]\r"
     ]
    },
    {
     "name": "stdout",
     "output_type": "stream",
     "text": [
      "+---------------+-----+\n",
      "|     VEH_MOD_ID|count|\n",
      "+---------------+-----+\n",
      "|             NA|14039|\n",
      "|        UNKNOWN|10348|\n",
      "|           F150| 8612|\n",
      "|      SILVERADO| 4665|\n",
      "|         ACCORD| 4156|\n",
      "|          CAMRY| 4073|\n",
      "|       RAM 1500| 3983|\n",
      "|         ALTIMA| 3258|\n",
      "|        COROLLA| 3168|\n",
      "|          CIVIC| 3104|\n",
      "|          TAHOE| 2438|\n",
      "|        MUSTANG| 2426|\n",
      "|       EXPLORER| 2350|\n",
      "|          C1500| 2011|\n",
      "|           F250| 1967|\n",
      "|         MALIBU| 1957|\n",
      "|         IMPALA| 1894|\n",
      "|          FOCUS| 1882|\n",
      "|SILVERADO C1500| 1873|\n",
      "|     EXPEDITION| 1713|\n",
      "+---------------+-----+\n",
      "only showing top 20 rows\n",
      "\n"
     ]
    },
    {
     "name": "stderr",
     "output_type": "stream",
     "text": [
      "\r",
      "[Stage 141:===========================================>         (165 + 1) / 200]\r",
      "\r",
      "                                                                                \r"
     ]
    }
   ],
   "source": [
    "df_Units.groupby(\"VEH_MAKE_ID\").count().orderBy(col(\"count\").desc()).show()"
   ]
  },
  {
   "cell_type": "code",
   "execution_count": 27,
   "id": "cdd897af",
   "metadata": {},
   "outputs": [
    {
     "data": {
      "text/plain": [
       "['CRASH_ID',\n",
       " 'UNIT_NBR',\n",
       " 'UNIT_DESC_ID',\n",
       " 'VEH_PARKED_FL',\n",
       " 'VEH_HNR_FL',\n",
       " 'VEH_LIC_STATE_ID',\n",
       " 'VIN',\n",
       " 'VEH_MOD_YEAR',\n",
       " 'VEH_COLOR_ID',\n",
       " 'VEH_MAKE_ID',\n",
       " 'VEH_MOD_ID',\n",
       " 'VEH_BODY_STYL_ID',\n",
       " 'EMER_RESPNDR_FL',\n",
       " 'OWNR_ZIP',\n",
       " 'FIN_RESP_PROOF_ID',\n",
       " 'FIN_RESP_TYPE_ID',\n",
       " 'VEH_DMAG_AREA_1_ID',\n",
       " 'VEH_DMAG_SCL_1_ID',\n",
       " 'FORCE_DIR_1_ID',\n",
       " 'VEH_DMAG_AREA_2_ID',\n",
       " 'VEH_DMAG_SCL_2_ID',\n",
       " 'FORCE_DIR_2_ID',\n",
       " 'VEH_INVENTORIED_FL',\n",
       " 'VEH_TRANSP_NAME',\n",
       " 'VEH_TRANSP_DEST',\n",
       " 'CONTRIB_FACTR_1_ID',\n",
       " 'CONTRIB_FACTR_2_ID',\n",
       " 'CONTRIB_FACTR_P1_ID',\n",
       " 'VEH_TRVL_DIR_ID',\n",
       " 'FIRST_HARM_EVT_INV_ID',\n",
       " 'INCAP_INJRY_CNT',\n",
       " 'NONINCAP_INJRY_CNT',\n",
       " 'POSS_INJRY_CNT',\n",
       " 'NON_INJRY_CNT',\n",
       " 'UNKN_INJRY_CNT',\n",
       " 'TOT_INJRY_CNT',\n",
       " 'DEATH_CNT']"
      ]
     },
     "execution_count": 27,
     "metadata": {},
     "output_type": "execute_result"
    }
   ],
   "source": [
    "df_Units.columns"
   ]
  },
  {
   "cell_type": "code",
   "execution_count": 55,
   "id": "36f0b20b",
   "metadata": {},
   "outputs": [
    {
     "name": "stderr",
     "output_type": "stream",
     "text": [
      "\r",
      "[Stage 170:>                                                        (0 + 1) / 1]\r"
     ]
    },
    {
     "name": "stdout",
     "output_type": "stream",
     "text": [
      "+----------------+------+\n",
      "|VEH_LIC_STATE_ID| count|\n",
      "+----------------+------+\n",
      "|              TX|156997|\n",
      "|              NA|  6065|\n",
      "|              UN|  1791|\n",
      "|              OK|   970|\n",
      "|              LA|   782|\n",
      "|              NM|   731|\n",
      "|              IN|   544|\n",
      "|              MX|   493|\n",
      "|              CA|   482|\n",
      "|              FL|   416|\n",
      "|              IL|   370|\n",
      "|              AR|   350|\n",
      "|              TN|   304|\n",
      "|              MS|   244|\n",
      "|              AZ|   236|\n",
      "|              KS|   186|\n",
      "|              MO|   177|\n",
      "|              GA|   177|\n",
      "|              CO|   175|\n",
      "|              NC|   159|\n",
      "|              AL|   145|\n",
      "|              OH|   127|\n",
      "|              MI|   122|\n",
      "|              MN|   113|\n",
      "|              WI|   101|\n",
      "|              VA|    98|\n",
      "|              NE|    88|\n",
      "|              WA|    85|\n",
      "|              IA|    79|\n",
      "|              UT|    75|\n",
      "|              OR|    71|\n",
      "|              PA|    70|\n",
      "|              SC|    63|\n",
      "|              CD|    57|\n",
      "|              NY|    50|\n",
      "|              KY|    45|\n",
      "|              NV|    41|\n",
      "|              MD|    40|\n",
      "|              NJ|    34|\n",
      "|              MT|    31|\n",
      "|              ID|    28|\n",
      "|              ND|    26|\n",
      "|              CT|    21|\n",
      "|              SD|    20|\n",
      "|              WY|    19|\n",
      "|              AK|    16|\n",
      "|              MA|    11|\n",
      "|              WV|    10|\n",
      "|              AS|    10|\n",
      "|              NH|     8|\n",
      "|              US|     7|\n",
      "|              ME|     7|\n",
      "|              RI|     6|\n",
      "|              VT|     5|\n",
      "|              HI|     5|\n",
      "|              DE|     4|\n",
      "|              DS|     2|\n",
      "|              DC|     1|\n",
      "+----------------+------+\n",
      "\n"
     ]
    },
    {
     "name": "stderr",
     "output_type": "stream",
     "text": [
      "\r",
      "[Stage 171:==================================================>  (192 + 1) / 200]\r",
      "\r",
      "                                                                                \r"
     ]
    }
   ],
   "source": [
    "# df_Units.groupby(\"VEH_LIC_STATE_ID\").count().orderBy(col(\"count\").desc()).show(100)\n",
    "df_Units.filter(col(\"VEH_LIC_STATE_ID\").cast(\"int\").isNull()).groupby(\"VEH_LIC_STATE_ID\").count().orderBy(col(\"count\").desc()).show(100)"
   ]
  },
  {
   "cell_type": "code",
   "execution_count": 22,
   "id": "4b43ae8d",
   "metadata": {},
   "outputs": [
    {
     "name": "stdout",
     "output_type": "stream",
     "text": [
      "+----------------------+\n",
      "|DRVR_LIC_TYPE_ID      |\n",
      "+----------------------+\n",
      "|COMMERCIAL DRIVER LIC.|\n",
      "|DRIVER LICENSE        |\n",
      "+----------------------+\n",
      "\n"
     ]
    }
   ],
   "source": [
    "df_pp.filter(df_pp.DRVR_LIC_TYPE_ID.isin([\"DRIVER LICENSE\", \"COMMERCIAL DRIVER LIC.\"])).select(\"DRVR_LIC_TYPE_ID\").distinct().show(100, truncate = False)"
   ]
  },
  {
   "cell_type": "code",
   "execution_count": 13,
   "id": "0fcd5089",
   "metadata": {},
   "outputs": [
    {
     "name": "stdout",
     "output_type": "stream",
     "text": [
      "+--------------------------------------------------------------+\n",
      "|CHARGE                                                        |\n",
      "+--------------------------------------------------------------+\n",
      "|UNSAFE SPEED/ DISPLAY EX REG                                  |\n",
      "|FAILURE TO CONTROL SPEED, NO DRIVER LICENSE                   |\n",
      "|FAILURE TO CONTROL SPEED ACCIDENT                             |\n",
      "|FT CONTROL SPEED C/A                                          |\n",
      "|TC545.351 FAIL TO CONTROL SPEED                               |\n",
      "|UNSAFE SPEED -CONDITIONS/RAIN                                 |\n",
      "|FAIL TO CONTROL SPEED/ACCIDENT                                |\n",
      "|FAIL TO CONTROL SPEED (RUST)                                  |\n",
      "|FAILT TO CONTROL MOTOR VEHICLE -SPEED                         |\n",
      "|FAILURE TO CONTROL SPEED-ACC, NO DL                           |\n",
      "|FAIL TO CONTROL SPEED- ACC                                    |\n",
      "|COLLISION BY DRIVING UNSAFE SPEED                             |\n",
      "|UNSAFE SPEED  TXTRC 545.351                                   |\n",
      "|FAIL TO CONTROL SPEED TO AVOID ACCIDENT                       |\n",
      "|FAILURE TON CONTROL SPEED TO AVOID COLLISION                  |\n",
      "|UNSAFE SPEED OF WEATHER CONDITIONS                            |\n",
      "|ACCIDENT+FAILURE TO CONTROL SPEED                             |\n",
      "|FAILED TO CONTROL SPEED(ACIDENT)                              |\n",
      "|SPEED - FAIL TO CONTROL SPEED ACCIDENT                        |\n",
      "|FAIL TO CONTROL SPEED/CA                                      |\n",
      "|\"FAIL TO CONTROL SPEED COLLIDE WITH FIXED OBJECT \"\"ACCIDENT\"\"\"|\n",
      "|NO DRIVERS LICENSE FAIL TO CONTROL SPEED                      |\n",
      "|FAIL TO CONTROL SPEED STRIKE FIXED OBJECT                     |\n",
      "|DWLI, NO INSURANCE, FAIL TO CONTROL SPEED, NO SEATBELT        |\n",
      "|FAIL TO CONTROL SPEED --- ACC                                 |\n",
      "|FAIL TOO CONTROL SPEED                                        |\n",
      "|INCREASED SPEED WHILE BEING OVERTAKEN                         |\n",
      "|UNSAFE SPEED (TXTRC:545.351)                                  |\n",
      "|FAI TO CONTROL SPEED                                          |\n",
      "|FAILURE TO CONTROL SPEED/ONE WAY STREET                       |\n",
      "|SPEED UNSAFE COND (WET)                                       |\n",
      "|NO DL, NO INSURANCE, FAILURE TO CONTROL SPEED                 |\n",
      "|FAIL TO CONTROL SPEED  TRC.  545.351                          |\n",
      "|NO DL, FMFR, RAN STOP SIGN, FAIL TO CONTROL SPEED COLLISION   |\n",
      "|FAIL TO CONTROL SPEED                      ACCIDENT           |\n",
      "|SPEEDING 10% OVER POSTED SPEED                                |\n",
      "|NO DRIVER LICENSE, UNSAFE SPEED                               |\n",
      "|FAIL TO CONTROL SPEED - ACCENDT                               |\n",
      "|UNSAFE SPEED, RUN RED LIGHT, FTLI, FAIL REPORT ACCIDENT       |\n",
      "|FAILED TO CONTROL SPEED   ACCIDENT                            |\n",
      "|FAILURE TO CONTROL SPEED,NO DRIVERS LICENSE                   |\n",
      "|FAILED TO CONTROLSPEED ACCIDENT                               |\n",
      "|FTS SPEED ACCIDENT VEHICLE                                    |\n",
      "|FAILED TO CONTROL SPEED, COLLIDE WITH PARKED VEH, NO DL       |\n",
      "|FAIL TO CONTROL SPEED - ACCIDENT & EXPIRED DL                 |\n",
      "|FAIL TO CONTROL SPEED TO AVOID ACCIDENT, FMFR, NO DRIVER LIC  |\n",
      "|FAILURE TO CPNTROL SPEED                                      |\n",
      "|FAILED TO CONTROL SPEED,NO D.L.                               |\n",
      "|FAILED TO CONTROL SPEED ACCIDENT                              |\n",
      "|FAIL TO CONTROL SPEED (ACCIDENT)                              |\n",
      "|FAILED TO CONTROL SPEED (REFUSED TO SIGN)                     |\n",
      "|FAILED TO CONTROL SPEED, CAUSING ACCIDENT.                    |\n",
      "|FAIL TO CONTROL SPEED/CAUSE ACCIDENT                          |\n",
      "|UNSAFE SPEED [TXTRC 545.351]                                  |\n",
      "|NO DL AND FAIL TO CONTROL SPEED (ACC)                         |\n",
      "|FAILURE TO CONTROL SPEED; EXPIRED REGISTRATION                |\n",
      "|FAILURE TO CONTROL SPEED/ FMFR (NO INSURANCE)/ EXP LP (4-15)  |\n",
      "|DWLI, FMFR, FAILURE TO CONTROL SPEED, NO FRONT LICENSE PLATE  |\n",
      "|FAIL TO CONTROL TO SPEED                                      |\n",
      "|545.361-SPEEDING-UNSAFE-UNDER LIMIT FOR WEATHER CONDITIONS    |\n",
      "|FAIL TO CONTROL SPEED -ACCIDENT                               |\n",
      "|UNSAFE SPEED/ DISPLAY EXPIRED LICENSE PLATE                   |\n",
      "|FAIL TO CONTROL SPEED, NO OPERATORS LICENSE                   |\n",
      "|NO OPERATOR'S LICENSE / FAIL TO CONTROL SPEED                 |\n",
      "|FAIL TO CONTROL VEHICLE (SPEED)                               |\n",
      "|FAIL TO CONTROL SPEED / NO DL                                 |\n",
      "|FAIL TO CONTROL SPEED (TRC 545.351)                           |\n",
      "|FAIL TO CONTROL SPEED-ACCIDENT, FAIL TO REPORT-ACCIDENT       |\n",
      "|SPEED: FAIL TO CONTROL SPEED/UNSAFE                           |\n",
      "|SPEEDING 10% OR MORE ABOVE POSTED LIMIT                       |\n",
      "|FAILED TO CONTROL SPEED   ACC                                 |\n",
      "|SPEED- UNCONTROLLED COLLISION WITH VEHICLE                    |\n",
      "|SPEED:FAIL TO CONTROL SPEED/UNSAFE                            |\n",
      "|UNSAFE SPEED (TXTRC 502.407)                                  |\n",
      "|FAILURE TO CONTROL SPEED, FMFR (NO INSURANCE)                 |\n",
      "|FAILURE TO CONTROL SPEED - ACCIDENT                           |\n",
      "|FAIL TO CONTROL SPEED  / FAIL TO YLD ROW TO EMEGENCY VEHICLE  |\n",
      "|FTC SPEED C/A                                                 |\n",
      "|DRIVING WHILE INTOXICATED, NO FR, FAIL TO CONTROL SPEED       |\n",
      "|545.351-FAILED TO CONTROL SPEED                               |\n",
      "|057 01 - FAILURE TO CONTROL SPEED                             |\n",
      "|NO INS AND FAIL TO CONTROL SPEED                              |\n",
      "|NO DRIVER'S LICENSE, FAIL TO CONTROL SPEED - ACC              |\n",
      "|FAIL TO CONTROL SPEED / C.A                                   |\n",
      "|EXCESSIVE SPEED                                               |\n",
      "|FAILURE TO CONTROL SPEED, EXPIRED DL, EXPIRED REGISTRATION    |\n",
      "|FAILED TO CONTROL SPEED(ACC)                                  |\n",
      "|FAILURE TO CONTROL SPEED/ NO DL                               |\n",
      "|FAIL TO CONTROL SPEED/CAUSING ACCIDENT                        |\n",
      "|FAILULRE TO CONTROL SPEED                                     |\n",
      "|F/T CONTROL  SPEED                                            |\n",
      "|NO OPERATOR LICENSE ON PERSON, FAILURE TO CONTROL SPEED       |\n",
      "|FAIL TO CONTROL SPEED-WARNING                                 |\n",
      "|FAILURE TO CONTROL SPEED & FMFR                               |\n",
      "|FAIL TO CONTROL SPEED- ACCIDENT                               |\n",
      "|FAILED TO CONTROL SPEED, NO DRIVERS LICENSE                   |\n",
      "|FAIL TO CONTROL SPEED (SO AS TO AVOID COLLISION)              |\n",
      "|LEAVE SCENE OF ACCIDENT, FAIL TO CONTROL SPEED                |\n",
      "|NO OPERATORS LICENSE,FMFR,P REG,FAILURE TO CONTROL SPEED      |\n",
      "|FAIL CONT SPEED                                               |\n",
      "+--------------------------------------------------------------+\n",
      "only showing top 100 rows\n",
      "\n"
     ]
    }
   ],
   "source": [
    "df_charges.select(\"CHARGE\").filter(df_charges.CHARGE.contains(\"SPEED\")).distinct().show(100, truncate = False)"
   ]
  },
  {
   "cell_type": "code",
   "execution_count": 43,
   "id": "f786501d",
   "metadata": {},
   "outputs": [],
   "source": [
    "df = df_charges.join(df_pp, on=['CRASH_ID'], how='inner').\\\n",
    "join(df_Units,  on=['CRASH_ID'], how='inner').\\\n",
    "filter(df_charges.CHARGE.contains(\"SPEED\")).\\\n",
    "filter(df_pp.DRVR_LIC_TYPE_ID.isin([\"DRIVER LICENSE\", \"COMMERCIAL DRIVER LIC.\"])).\\\n",
    "groupby(\"VEH_COLOR_ID\", \"VEH_LIC_STATE_ID\", \"VEH_MAKE_ID\").count().orderBy(col(\"count\").desc())\n",
    "\n",
    "df_Units.filter(col(\"VEH_LIC_STATE_ID\").cast(\"int\").isNull()).groupby(\"VEH_LIC_STATE_ID\").count().orderBy(col(\"count\").desc()).show(100)"
   ]
  },
  {
   "cell_type": "code",
   "execution_count": 56,
   "id": "e44cd947",
   "metadata": {},
   "outputs": [
    {
     "name": "stderr",
     "output_type": "stream",
     "text": [
      "\r",
      "[Stage 173:==================================================>  (191 + 1) / 200]\r",
      "\r",
      "                                                                                \r"
     ]
    }
   ],
   "source": [
    "top_25_state_list = [row[0] for row in df_Units.filter(col(\"VEH_LIC_STATE_ID\").cast(\"int\").isNull()).groupby(\"VEH_LIC_STATE_ID\").count().orderBy(col(\"count\").desc()).limit(25).collect()]\n"
   ]
  },
  {
   "cell_type": "code",
   "execution_count": 60,
   "id": "969abc80",
   "metadata": {},
   "outputs": [],
   "source": [
    "top_10_used_vehicle_colors = [row[0] for row in df_Units.filter(df_Units.VEH_COLOR_ID != \"NA\").groupby(\"VEH_COLOR_ID\").count().orderBy(col(\"count\").desc()).limit(10).collect()]\n"
   ]
  },
  {
   "cell_type": "code",
   "execution_count": 61,
   "id": "2bc1b4e4",
   "metadata": {},
   "outputs": [
    {
     "data": {
      "text/plain": [
       "['WHI', 'BLK', 'SIL', 'GRY', 'BLU', 'RED', 'GRN', 'MAR', 'TAN', 'GLD']"
      ]
     },
     "execution_count": 61,
     "metadata": {},
     "output_type": "execute_result"
    }
   ],
   "source": [
    "top_10_used_vehicle_colors"
   ]
  },
  {
   "cell_type": "code",
   "execution_count": 57,
   "id": "1672792d",
   "metadata": {},
   "outputs": [
    {
     "data": {
      "text/plain": [
       "['TX',\n",
       " 'NA',\n",
       " 'UN',\n",
       " 'OK',\n",
       " 'LA',\n",
       " 'NM',\n",
       " 'IN',\n",
       " 'MX',\n",
       " 'CA',\n",
       " 'FL',\n",
       " 'IL',\n",
       " 'AR',\n",
       " 'TN',\n",
       " 'MS',\n",
       " 'AZ',\n",
       " 'KS',\n",
       " 'GA',\n",
       " 'MO',\n",
       " 'CO',\n",
       " 'NC',\n",
       " 'AL',\n",
       " 'OH',\n",
       " 'MI',\n",
       " 'MN',\n",
       " 'WI']"
      ]
     },
     "execution_count": 57,
     "metadata": {},
     "output_type": "execute_result"
    }
   ],
   "source": [
    "top_25_state_list"
   ]
  },
  {
   "cell_type": "code",
   "execution_count": 65,
   "id": "5f607380",
   "metadata": {},
   "outputs": [
    {
     "name": "stdout",
     "output_type": "stream",
     "text": [
      "+-------------+-----+\n",
      "|  VEH_MAKE_ID|count|\n",
      "+-------------+-----+\n",
      "|         FORD|19205|\n",
      "|    CHEVROLET|16860|\n",
      "|       TOYOTA|11822|\n",
      "|        DODGE| 7935|\n",
      "|       NISSAN| 7332|\n",
      "|        HONDA| 7189|\n",
      "|          GMC| 3147|\n",
      "|         JEEP| 2937|\n",
      "|      HYUNDAI| 2678|\n",
      "|          KIA| 2111|\n",
      "| FREIGHTLINER| 1825|\n",
      "|     CHRYSLER| 1692|\n",
      "|        MAZDA| 1669|\n",
      "|        LEXUS| 1548|\n",
      "|   VOLKSWAGEN| 1407|\n",
      "|          BMW| 1132|\n",
      "|MERCEDES-BENZ| 1128|\n",
      "|      PONTIAC| 1096|\n",
      "|        BUICK| 1080|\n",
      "|     CADILLAC| 1007|\n",
      "+-------------+-----+\n",
      "only showing top 20 rows\n",
      "\n"
     ]
    },
    {
     "name": "stderr",
     "output_type": "stream",
     "text": [
      "\r",
      "[Stage 183:==================================================>  (192 + 1) / 200]\r",
      "\r",
      "                                                                                \r"
     ]
    }
   ],
   "source": [
    "df_charges.join(df_pp, on=['CRASH_ID'], how='inner'). \\\n",
    "join(df_Units, on=['CRASH_ID'], how='inner'). \\\n",
    "filter(df_charges.CHARGE.contains(\"SPEED\")). \\\n",
    "filter(df_pp.DRVR_LIC_TYPE_ID.isin([\"DRIVER LICENSE\", \"COMMERCIAL DRIVER LIC.\"])).\\\n",
    "filter(df_Units.VEH_COLOR_ID.isin(top_10_used_vehicle_colors)).\\\n",
    "filter(df_Units.VEH_LIC_STATE_ID.isin(top_25_state_list)).\\\n",
    "groupby(\"VEH_MAKE_ID\").count().\\\n",
    "orderBy(col(\"count\").desc()).show()"
   ]
  },
  {
   "cell_type": "code",
   "execution_count": 44,
   "id": "99e3e6ff",
   "metadata": {},
   "outputs": [
    {
     "name": "stderr",
     "output_type": "stream",
     "text": [
      "                                                                                \r"
     ]
    },
    {
     "name": "stdout",
     "output_type": "stream",
     "text": [
      "+------------+----------------+-----------+-----+\n",
      "|VEH_COLOR_ID|VEH_LIC_STATE_ID|VEH_MAKE_ID|count|\n",
      "+------------+----------------+-----------+-----+\n",
      "|WHI         |TX              |FORD       |5581 |\n",
      "|WHI         |TX              |CHEVROLET  |4514 |\n",
      "|NA          |NA              |NA         |4148 |\n",
      "|BLK         |TX              |FORD       |3062 |\n",
      "|BLK         |TX              |CHEVROLET  |2861 |\n",
      "|WHI         |TX              |TOYOTA     |2480 |\n",
      "|RED         |TX              |FORD       |2095 |\n",
      "|SIL         |TX              |TOYOTA     |2079 |\n",
      "|SIL         |TX              |CHEVROLET  |1888 |\n",
      "|WHI         |TX              |DODGE      |1860 |\n",
      "|GRY         |TX              |FORD       |1801 |\n",
      "|GRY         |TX              |TOYOTA     |1750 |\n",
      "|SIL         |TX              |FORD       |1744 |\n",
      "|BLU         |TX              |FORD       |1712 |\n",
      "|BLK         |TX              |TOYOTA     |1632 |\n",
      "|GRY         |TX              |CHEVROLET  |1609 |\n",
      "|BLK         |TX              |NISSAN     |1518 |\n",
      "|BLK         |TX              |DODGE      |1475 |\n",
      "|BLU         |TX              |CHEVROLET  |1404 |\n",
      "|RED         |TX              |CHEVROLET  |1401 |\n",
      "+------------+----------------+-----------+-----+\n",
      "only showing top 20 rows\n",
      "\n"
     ]
    }
   ],
   "source": [
    "df.show(truncate = False)"
   ]
  },
  {
   "cell_type": "code",
   "execution_count": null,
   "id": "29371da4",
   "metadata": {},
   "outputs": [],
   "source": [
    ".groupby(\"VEH_LIC_STATE_ID\").count().orderBy(col(\"count\").desc())"
   ]
  },
  {
   "cell_type": "code",
   "execution_count": 19,
   "id": "39f406f9",
   "metadata": {},
   "outputs": [
    {
     "name": "stdout",
     "output_type": "stream",
     "text": [
      "+--------+--------+--------+----------------------------------------+------------+\n",
      "|CRASH_ID|UNIT_NBR|PRSN_NBR|CHARGE                                  |CITATION_NBR|\n",
      "+--------+--------+--------+----------------------------------------+------------+\n",
      "|14768622|1       |1       |DRIVING WHILE INTOXICATED               |null        |\n",
      "|14838637|1       |1       |DWI                                     |1600000015  |\n",
      "|14838641|1       |1       |RAN RED LIGHT SOLID (TC 544.007)        |L20440      |\n",
      "|14838641|2       |1       |NO DRIVER'S LICENSE (TC521.025)         |L23141      |\n",
      "|14838668|1       |1       |DRIVING WHILE INTOXICATED               |TX4IC50SRJD3|\n",
      "|14838669|2       |1       |DWI W/BAC >.015                         |2015-000006 |\n",
      "|14838670|1       |1       |DRIVING WHILE INTOXICATED               |2016-000003 |\n",
      "|14838685|1       |1       |FAILED TO DRIVE SINGLE LANE, NOL, NO INS|138434825   |\n",
      "|14838693|1       |1       |DRIVING WHILE INTOXICATED               |TX4IC60UKQND|\n",
      "|14838768|2       |1       |DWI                                     |null        |\n",
      "|14838834|1       |1       |NO DRIVERS LICENSE                      |10019200    |\n",
      "|14838834|1       |1       |FAIL TO CONTROL SPEED                   |10019200    |\n",
      "|14838834|1       |1       |LEAVING THE SCENE                       |10019200    |\n",
      "|14838841|1       |1       |FTLI   / DWLI                           |16-43861    |\n",
      "|14838841|1       |1       |LEAVING SCENE OF ACCIDENT               |16-43861    |\n",
      "|14838841|1       |1       |FAIL TO DRIVE IN SINGLE LANE            |16-43861    |\n",
      "|14838841|1       |1       |FAIL TO REPORT ACCIDENT                 |16-43861    |\n",
      "|14838842|1       |1       |LEAVING SCENE OF ACCIDENT               |16-43859    |\n",
      "|14838842|1       |1       |FAIL TO REPORT ACCIDENT                 |16-43859    |\n",
      "|14838842|1       |1       |FAIL TO DRIVE IN SINGLE LANE            |16-43859    |\n",
      "+--------+--------+--------+----------------------------------------+------------+\n",
      "only showing top 20 rows\n",
      "\n"
     ]
    }
   ],
   "source": [
    "df_charges.show(truncate=False)"
   ]
  },
  {
   "cell_type": "code",
   "execution_count": 8,
   "id": "c3311a43",
   "metadata": {},
   "outputs": [
    {
     "data": {
      "text/plain": [
       "24950"
      ]
     },
     "execution_count": 8,
     "metadata": {},
     "output_type": "execute_result"
    }
   ],
   "source": [
    "df_damages.count()"
   ]
  },
  {
   "cell_type": "code",
   "execution_count": 18,
   "id": "d87b5015",
   "metadata": {},
   "outputs": [
    {
     "name": "stdout",
     "output_type": "stream",
     "text": [
      "+--------+--------------------+\n",
      "|CRASH_ID|    DAMAGED_PROPERTY|\n",
      "+--------+--------------------+\n",
      "|14768622|             MAILBOX|\n",
      "|14768622|         YARD, GRASS|\n",
      "|14838668|           GUARDRAIL|\n",
      "|14838685|           ROAD SIGN|\n",
      "|14838693|        2009 MAZDA 3|\n",
      "|14838834|    CHAIN LINK FENCE|\n",
      "|14838841|WOODED POLE ON SO...|\n",
      "|14838842|CITY SIGN FOR TUR...|\n",
      "|14838877|    FENCE-CHAIN LINK|\n",
      "|14838977|LANDSCAPING AND M...|\n",
      "|14839047|  APARTMENT BUILDING|\n",
      "|14839047|         STREET SIGN|\n",
      "|14839048|               HOUSE|\n",
      "|14839314|          LIGHT POLE|\n",
      "|14839330|MINOR DAMAGE TO W...|\n",
      "|14839442|CITY OF SAN ANTON...|\n",
      "|14839472|         METAL POLES|\n",
      "|14839517|    WATER ATTENUATOR|\n",
      "|14839519|        UTILITY POST|\n",
      "|14839551|30 FEET OF GUARDRAIL|\n",
      "+--------+--------------------+\n",
      "only showing top 20 rows\n",
      "\n"
     ]
    }
   ],
   "source": [
    "df_damages.show()"
   ]
  },
  {
   "cell_type": "code",
   "execution_count": 9,
   "id": "916446f7",
   "metadata": {},
   "outputs": [
    {
     "data": {
      "text/plain": [
       "159818"
      ]
     },
     "execution_count": 9,
     "metadata": {},
     "output_type": "execute_result"
    }
   ],
   "source": [
    "df_endorse.count()"
   ]
  },
  {
   "cell_type": "code",
   "execution_count": 17,
   "id": "dc646ea7",
   "metadata": {},
   "outputs": [
    {
     "name": "stdout",
     "output_type": "stream",
     "text": [
      "+--------+--------+------------------+\n",
      "|CRASH_ID|UNIT_NBR|DRVR_LIC_ENDORS_ID|\n",
      "+--------+--------+------------------+\n",
      "|14768622|       1|              NONE|\n",
      "|14838637|       1|              NONE|\n",
      "|14838637|       2|              NONE|\n",
      "|14838641|       1|              NONE|\n",
      "|14838641|       2|        UNLICENSED|\n",
      "|14838668|       1|              NONE|\n",
      "|14838669|       1|              NONE|\n",
      "|14838669|       2|              NONE|\n",
      "|14838670|       1|              NONE|\n",
      "|14838685|       1|        UNLICENSED|\n",
      "|14838693|       1|              NONE|\n",
      "|14838768|       1|OTHER/OUT OF STATE|\n",
      "|14838768|       2|              NONE|\n",
      "|14838834|       1|           UNKNOWN|\n",
      "|14838841|       1|              NONE|\n",
      "|14838842|       1|              NONE|\n",
      "|14838842|       2|              NONE|\n",
      "|14838866|       1|              NONE|\n",
      "|14838877|       1|              NONE|\n",
      "|14838972|       1|              NONE|\n",
      "+--------+--------+------------------+\n",
      "only showing top 20 rows\n",
      "\n"
     ]
    }
   ],
   "source": [
    "df_endorse.show()"
   ]
  },
  {
   "cell_type": "code",
   "execution_count": 105,
   "id": "bb7e31d4",
   "metadata": {},
   "outputs": [
    {
     "data": {
      "text/plain": [
       "'Texas'"
      ]
     },
     "execution_count": 105,
     "metadata": {},
     "output_type": "execute_result"
    }
   ],
   "source": [
    "df_pp.select(\"PRSN_GNDR_ID\", \"DRVR_LIC_STATE_ID\").filter(df_pp.PRSN_GNDR_ID == \"FEMALE\").groupby(\"DRVR_LIC_STATE_ID\").count().orderBy(col(\"count\").desc()).first().DRVR_LIC_STATE_ID\n"
   ]
  },
  {
   "cell_type": "code",
   "execution_count": 10,
   "id": "7e5fa1ba",
   "metadata": {},
   "outputs": [
    {
     "data": {
      "text/plain": [
       "156954"
      ]
     },
     "execution_count": 10,
     "metadata": {},
     "output_type": "execute_result"
    }
   ],
   "source": [
    "df_pp.count()"
   ]
  },
  {
   "cell_type": "code",
   "execution_count": 51,
   "id": "395c866b",
   "metadata": {},
   "outputs": [
    {
     "name": "stdout",
     "output_type": "stream",
     "text": [
      "+---------+\n",
      "|DRVR_ZIP |\n",
      "+---------+\n",
      "|75007    |\n",
      "|78073    |\n",
      "|77371    |\n",
      "|79849    |\n",
      "|77339    |\n",
      "|77303    |\n",
      "|78382    |\n",
      "|75602    |\n",
      "|72472    |\n",
      "|770598   |\n",
      "|84606    |\n",
      "|71047    |\n",
      "|39645    |\n",
      "|08648    |\n",
      "|73463    |\n",
      "|32812    |\n",
      "|36526    |\n",
      "|76686    |\n",
      "|88277    |\n",
      "|783720000|\n",
      "+---------+\n",
      "only showing top 20 rows\n",
      "\n"
     ]
    }
   ],
   "source": [
    "df_pp.select(\"DRVR_ZIP\").distinct().show(truncate=False)"
   ]
  },
  {
   "cell_type": "code",
   "execution_count": 174,
   "id": "4b32afe9",
   "metadata": {},
   "outputs": [
    {
     "name": "stderr",
     "output_type": "stream",
     "text": [
      "\r",
      "[Stage 739:>                                                        (0 + 8) / 8]\r"
     ]
    },
    {
     "name": "stdout",
     "output_type": "stream",
     "text": [
      "+--------+-----------------+\n",
      "|CRASH_ID|PRSN_ETHNICITY_ID|\n",
      "+--------+-----------------+\n",
      "|14842987|            BLACK|\n",
      "|14845235|            WHITE|\n",
      "|14847796|            WHITE|\n",
      "|14848985|         HISPANIC|\n",
      "|14849674|            WHITE|\n",
      "|14849994|            ASIAN|\n",
      "|14850477|            WHITE|\n",
      "|14850795|            BLACK|\n",
      "|14850895|            WHITE|\n",
      "|14851253|            BLACK|\n",
      "|14851478|         HISPANIC|\n",
      "|14851529|            BLACK|\n",
      "|14852255|         HISPANIC|\n",
      "|14852370|            WHITE|\n",
      "|14852671|            BLACK|\n",
      "|14852682|            WHITE|\n",
      "|14853923|            BLACK|\n",
      "|14855453|            ASIAN|\n",
      "|14856417|            WHITE|\n",
      "|14858416|            BLACK|\n",
      "+--------+-----------------+\n",
      "only showing top 20 rows\n",
      "\n"
     ]
    },
    {
     "name": "stderr",
     "output_type": "stream",
     "text": [
      "\r",
      "                                                                                \r"
     ]
    }
   ],
   "source": [
    "df_pp.select(\"CRASH_ID\", \"PRSN_ETHNICITY_ID\").distinct().show()"
   ]
  },
  {
   "cell_type": "code",
   "execution_count": 215,
   "id": "d1624314",
   "metadata": {},
   "outputs": [],
   "source": [
    "w2 = Window.partitionBy(\"VEH_BODY_STYL_ID\").orderBy(col(\"count\").desc())"
   ]
  },
  {
   "cell_type": "code",
   "execution_count": 227,
   "id": "8a7f467d",
   "metadata": {},
   "outputs": [
    {
     "name": "stdout",
     "output_type": "stream",
     "text": [
      "+--------------------+\n",
      "|  CONTRIB_FACTR_2_ID|\n",
      "+--------------------+\n",
      "|UNDER INFLUENCE -...|\n",
      "|UNDER INFLUENCE -...|\n",
      "|UNDER INFLUENCE -...|\n",
      "|UNDER INFLUENCE -...|\n",
      "|UNDER INFLUENCE -...|\n",
      "|UNDER INFLUENCE -...|\n",
      "|UNDER INFLUENCE -...|\n",
      "|UNDER INFLUENCE -...|\n",
      "|UNDER INFLUENCE -...|\n",
      "|UNDER INFLUENCE -...|\n",
      "|UNDER INFLUENCE -...|\n",
      "|UNDER INFLUENCE -...|\n",
      "|UNDER INFLUENCE -...|\n",
      "|UNDER INFLUENCE -...|\n",
      "|UNDER INFLUENCE -...|\n",
      "|UNDER INFLUENCE -...|\n",
      "|UNDER INFLUENCE -...|\n",
      "|UNDER INFLUENCE -...|\n",
      "|UNDER INFLUENCE -...|\n",
      "|UNDER INFLUENCE -...|\n",
      "+--------------------+\n",
      "only showing top 20 rows\n",
      "\n"
     ]
    }
   ],
   "source": [
    "df_Units.filter(col(\"CONTRIB_FACTR_2_ID\").contains(\"ALCOHOL\")).select(\"CONTRIB_FACTR_2_ID\").show()"
   ]
  },
  {
   "cell_type": "code",
   "execution_count": 234,
   "id": "e4dee0d6",
   "metadata": {},
   "outputs": [],
   "source": [
    "df = df_Units.join(df_pp, on=['CRASH_ID'], how='inner').\\\n",
    "dropna(subset=[\"DRVR_ZIP\"]).\\\n",
    "filter(col(\"CONTRIB_FACTR_1_ID\").contains(\"ALCOHOL\") | col(\"CONTRIB_FACTR_2_ID\").contains(\"ALCOHOL\")).\\\n",
    "groupby(\"DRVR_ZIP\").count().orderBy(col(\"count\").desc()).limit(5)\n"
   ]
  },
  {
   "cell_type": "code",
   "execution_count": 235,
   "id": "37e44031",
   "metadata": {},
   "outputs": [
    {
     "name": "stdout",
     "output_type": "stream",
     "text": [
      "root\n",
      " |-- DRVR_ZIP: string (nullable = true)\n",
      " |-- count: long (nullable = false)\n",
      "\n"
     ]
    }
   ],
   "source": [
    "df.printSchema()"
   ]
  },
  {
   "cell_type": "code",
   "execution_count": 220,
   "id": "16b8656e",
   "metadata": {},
   "outputs": [
    {
     "name": "stderr",
     "output_type": "stream",
     "text": [
      "                                                                                \r"
     ]
    },
    {
     "name": "stdout",
     "output_type": "stream",
     "text": [
      "+---------------------------------+-----------------+-----+\n",
      "|VEH_BODY_STYL_ID                 |PRSN_ETHNICITY_ID|count|\n",
      "+---------------------------------+-----------------+-----+\n",
      "|BUS                              |HISPANIC         |391  |\n",
      "|VAN                              |WHITE            |5291 |\n",
      "|PICKUP                           |WHITE            |38609|\n",
      "|SPORT UTILITY VEHICLE            |WHITE            |33902|\n",
      "|PASSENGER CAR, 4-DOOR            |WHITE            |58312|\n",
      "|FIRE TRUCK                       |WHITE            |112  |\n",
      "|TRUCK                            |WHITE            |4204 |\n",
      "|AMBULANCE                        |WHITE            |97   |\n",
      "|POLICE CAR/TRUCK                 |WHITE            |366  |\n",
      "|MOTORCYCLE                       |WHITE            |848  |\n",
      "|YELLOW SCHOOL BUS                |WHITE            |264  |\n",
      "|POLICE MOTORCYCLE                |HISPANIC         |3    |\n",
      "|PASSENGER CAR, 2-DOOR            |WHITE            |9877 |\n",
      "|TRUCK TRACTOR                    |WHITE            |5815 |\n",
      "|FARM EQUIPMENT                   |WHITE            |63   |\n",
      "|NEV-NEIGHBORHOOD ELECTRIC VEHICLE|WHITE            |10   |\n",
      "+---------------------------------+-----------------+-----+\n",
      "\n"
     ]
    }
   ],
   "source": [
    "df_Units.join(df_pp, on=['CRASH_ID'], how='inner').\\\n",
    "filter(~df_Units.VEH_BODY_STYL_ID.isin([\"NA\", \"UNKNOWN\", \"NOT REPORTED\", \"OTHER  (EXPLAIN IN NARRATIVE)\"])).\\\n",
    "filter(~df_pp.PRSN_ETHNICITY_ID.isin([\"NA\", \"UNKNOWN\"])).\\\n",
    "groupby(\"VEH_BODY_STYL_ID\", \"PRSN_ETHNICITY_ID\").count().\\\n",
    "withColdf_Units.join(df_pp, on=['CRASH_ID'], how='inner').\\\n",
    "filter(~df_Units.VEH_BODY_STYL_ID.isin([\"NA\", \"UNKNOWN\"])).\\\n",
    "filter(~df_pp.PRSN_ETHNICITY_ID.isin([\"NA\", \"UNKNOWN\"])).\\\n",
    "groupby(\"VEH_BODY_STYL_ID\", \"PRSN_ETHNICITY_ID\").count().\\\n",
    "withColumn(\"row\", row_number().over(w2)).filter(col(\"row\") == 1).drop(\"row\").show()\n",
    "umn(\"row\", row_number().over(w2)).filter(col(\"row\") == 1).drop(\"row\").show(truncate=False)\n"
   ]
  },
  {
   "cell_type": "code",
   "execution_count": 173,
   "id": "7834891d",
   "metadata": {},
   "outputs": [
    {
     "name": "stdout",
     "output_type": "stream",
     "text": [
      "+--------------------+\n",
      "|    VEH_BODY_STYL_ID|\n",
      "+--------------------+\n",
      "|                 BUS|\n",
      "|                  NA|\n",
      "|                 VAN|\n",
      "|              PICKUP|\n",
      "|SPORT UTILITY VEH...|\n",
      "|PASSENGER CAR, 4-...|\n",
      "|          FIRE TRUCK|\n",
      "|               TRUCK|\n",
      "|             UNKNOWN|\n",
      "|           AMBULANCE|\n",
      "|    POLICE CAR/TRUCK|\n",
      "|          MOTORCYCLE|\n",
      "|   YELLOW SCHOOL BUS|\n",
      "|   POLICE MOTORCYCLE|\n",
      "|PASSENGER CAR, 2-...|\n",
      "|       TRUCK TRACTOR|\n",
      "|      FARM EQUIPMENT|\n",
      "|NEV-NEIGHBORHOOD ...|\n",
      "|OTHER  (EXPLAIN I...|\n",
      "|        NOT REPORTED|\n",
      "+--------------------+\n",
      "\n"
     ]
    }
   ],
   "source": [
    "df_Units.select(\"VEH_BODY_STYL_ID\").distinct().show()"
   ]
  },
  {
   "cell_type": "code",
   "execution_count": 16,
   "id": "00e4281b",
   "metadata": {},
   "outputs": [
    {
     "data": {
      "text/plain": [
       "[Row(CRASH_ID='14768622', UNIT_NBR='1', UNIT_DESC_ID='MOTOR VEHICLE', VEH_PARKED_FL='N', VEH_HNR_FL='N', VEH_LIC_STATE_ID='TX', VIN='4S2CK57D1X4381118', VEH_MOD_YEAR='1999', VEH_COLOR_ID='GRY', VEH_MAKE_ID='ISUZU', VEH_MOD_ID='AMIGO', VEH_BODY_STYL_ID='PASSENGER CAR, 4-DOOR', EMER_RESPNDR_FL='Y', OWNR_ZIP='77357', FIN_RESP_PROOF_ID='2', FIN_RESP_TYPE_ID='NA', VEH_DMAG_AREA_1_ID='FRONT END DAMAGE CONCENTRATED IMPACT', VEH_DMAG_SCL_1_ID='DAMAGED 3', FORCE_DIR_1_ID='1', VEH_DMAG_AREA_2_ID='LEFT SIDE AND TOP DAMAGE ROLLOVER EFFECTS', VEH_DMAG_SCL_2_ID='DAMAGED 4', FORCE_DIR_2_ID='3', VEH_INVENTORIED_FL='Y', VEH_TRANSP_NAME='VALENTIN TOWING', VEH_TRANSP_DEST='20288 FM 1314 PORTER, TX', CONTRIB_FACTR_1_ID='UNDER INFLUENCE - ALCOHOL', CONTRIB_FACTR_2_ID='NA', CONTRIB_FACTR_P1_ID='NA', VEH_TRVL_DIR_ID='EAST', FIRST_HARM_EVT_INV_ID='Y', INCAP_INJRY_CNT='0', NONINCAP_INJRY_CNT='0', POSS_INJRY_CNT='0', NON_INJRY_CNT='1', UNKN_INJRY_CNT='0', TOT_INJRY_CNT='0', DEATH_CNT='0'),\n",
       " Row(CRASH_ID='14838637', UNIT_NBR='1', UNIT_DESC_ID='MOTOR VEHICLE', VEH_PARKED_FL='N', VEH_HNR_FL='N', VEH_LIC_STATE_ID='TX', VIN='WVWAN7AN6DE536582', VEH_MOD_YEAR='NA', VEH_COLOR_ID='GRY', VEH_MAKE_ID='VOLKSWAGEN', VEH_MOD_ID='CC', VEH_BODY_STYL_ID='PASSENGER CAR, 4-DOOR', EMER_RESPNDR_FL='N', OWNR_ZIP='13830', FIN_RESP_PROOF_ID='1', FIN_RESP_TYPE_ID='PROOF OF LIABILITY INSURANCE', VEH_DMAG_AREA_1_ID='FRONT END DAMAGE DISTRIBUTED IMPACT', VEH_DMAG_SCL_1_ID='DAMAGED 3', FORCE_DIR_1_ID='12', VEH_DMAG_AREA_2_ID='NA', VEH_DMAG_SCL_2_ID='NA', FORCE_DIR_2_ID='NA', VEH_INVENTORIED_FL='N', VEH_TRANSP_NAME='A-1 TOWING', VEH_TRANSP_DEST='4710 ELLEN TROUT', CONTRIB_FACTR_1_ID='HAD BEEN DRINKING', CONTRIB_FACTR_2_ID='NA', CONTRIB_FACTR_P1_ID='NA', VEH_TRVL_DIR_ID='SOUTH', FIRST_HARM_EVT_INV_ID='Y', INCAP_INJRY_CNT='0', NONINCAP_INJRY_CNT='0', POSS_INJRY_CNT='0', NON_INJRY_CNT='1', UNKN_INJRY_CNT='0', TOT_INJRY_CNT='0', DEATH_CNT='0')]"
      ]
     },
     "execution_count": 16,
     "metadata": {},
     "output_type": "execute_result"
    }
   ],
   "source": [
    "df_Units.head(2)"
   ]
  },
  {
   "cell_type": "code",
   "execution_count": 223,
   "id": "c4286561",
   "metadata": {},
   "outputs": [
    {
     "name": "stdout",
     "output_type": "stream",
     "text": [
      "+----------------------------------------+\n",
      "|CONTRIB_FACTR_P1_ID                     |\n",
      "+----------------------------------------+\n",
      "|OVERTAKE AND PASS INSUFFICIENT CLEARANCE|\n",
      "|UNDER INFLUENCE - ALCOHOL               |\n",
      "|WRONG SIDE - NOT PASSING                |\n",
      "|TAKING MEDICATION (EXPLAIN IN NARRATIVE)|\n",
      "|IMPROPER START FROM PARKED POSITION     |\n",
      "|DISTRACTION IN VEHICLE                  |\n",
      "|UNDER INFLUENCE - DRUG                  |\n",
      "|FAILED TO YIELD ROW - TURN ON RED       |\n",
      "|NA                                      |\n",
      "|PARKED IN TRAFFIC LANE                  |\n",
      "|ILL (EXPLAIN IN NARRATIVE)              |\n",
      "|FAILED TO YIELD ROW - STOP SIGN         |\n",
      "|UNSAFE SPEED                            |\n",
      "|FAILED TO STOP AT PROPER PLACE          |\n",
      "|FAILED TO YIELD ROW - PRIVATE DRIVE     |\n",
      "|DISREGARD STOP SIGN OR LIGHT            |\n",
      "|PASSED ON RIGHT SHOULDER                |\n",
      "|DISREGARD TURN MARKS AT INTERSECTION    |\n",
      "|FAILED TO PASS TO LEFT SAFELY           |\n",
      "|LOAD NOT SECURED                        |\n",
      "+----------------------------------------+\n",
      "only showing top 20 rows\n",
      "\n"
     ]
    }
   ],
   "source": [
    "df_Units.select(\"CONTRIB_FACTR_P1_ID\").distinct().show(truncate=False)"
   ]
  },
  {
   "cell_type": "code",
   "execution_count": 92,
   "id": "8e0dff40",
   "metadata": {},
   "outputs": [],
   "source": [
    "from pyspark.sql.functions import col"
   ]
  },
  {
   "cell_type": "code",
   "execution_count": 93,
   "id": "4272c107",
   "metadata": {},
   "outputs": [
    {
     "data": {
      "text/plain": [
       "784"
      ]
     },
     "execution_count": 93,
     "metadata": {},
     "output_type": "execute_result"
    }
   ],
   "source": [
    "df_Units.filter(col(\"VEH_BODY_STYL_ID\").contains(\"MOTORCYCLE\")).count()"
   ]
  },
  {
   "cell_type": "code",
   "execution_count": 94,
   "id": "17e26bfb",
   "metadata": {},
   "outputs": [
    {
     "data": {
      "text/plain": [
       "3"
      ]
     },
     "execution_count": 94,
     "metadata": {},
     "output_type": "execute_result"
    }
   ],
   "source": [
    "df_Units.filter(col(\"VEH_BODY_STYL_ID\").contains(\"POLICE MOTORCYCLE\")).count()"
   ]
  },
  {
   "cell_type": "code",
   "execution_count": 96,
   "id": "7e8ceee5",
   "metadata": {},
   "outputs": [
    {
     "data": {
      "text/plain": [
       "781"
      ]
     },
     "execution_count": 96,
     "metadata": {},
     "output_type": "execute_result"
    }
   ],
   "source": [
    "df_Units.filter(df_Units.VEH_BODY_STYL_ID == \"MOTORCYCLE\").count()"
   ]
  },
  {
   "cell_type": "code",
   "execution_count": 112,
   "id": "517b0457",
   "metadata": {},
   "outputs": [
    {
     "name": "stdout",
     "output_type": "stream",
     "text": [
      "root\n",
      " |-- CRASH_ID: string (nullable = true)\n",
      " |-- UNIT_NBR: string (nullable = true)\n",
      " |-- UNIT_DESC_ID: string (nullable = true)\n",
      " |-- VEH_PARKED_FL: string (nullable = true)\n",
      " |-- VEH_HNR_FL: string (nullable = true)\n",
      " |-- VEH_LIC_STATE_ID: string (nullable = true)\n",
      " |-- VIN: string (nullable = true)\n",
      " |-- VEH_MOD_YEAR: string (nullable = true)\n",
      " |-- VEH_COLOR_ID: string (nullable = true)\n",
      " |-- VEH_MAKE_ID: string (nullable = true)\n",
      " |-- VEH_MOD_ID: string (nullable = true)\n",
      " |-- VEH_BODY_STYL_ID: string (nullable = true)\n",
      " |-- EMER_RESPNDR_FL: string (nullable = true)\n",
      " |-- OWNR_ZIP: string (nullable = true)\n",
      " |-- FIN_RESP_PROOF_ID: string (nullable = true)\n",
      " |-- FIN_RESP_TYPE_ID: string (nullable = true)\n",
      " |-- VEH_DMAG_AREA_1_ID: string (nullable = true)\n",
      " |-- VEH_DMAG_SCL_1_ID: string (nullable = true)\n",
      " |-- FORCE_DIR_1_ID: string (nullable = true)\n",
      " |-- VEH_DMAG_AREA_2_ID: string (nullable = true)\n",
      " |-- VEH_DMAG_SCL_2_ID: string (nullable = true)\n",
      " |-- FORCE_DIR_2_ID: string (nullable = true)\n",
      " |-- VEH_INVENTORIED_FL: string (nullable = true)\n",
      " |-- VEH_TRANSP_NAME: string (nullable = true)\n",
      " |-- VEH_TRANSP_DEST: string (nullable = true)\n",
      " |-- CONTRIB_FACTR_1_ID: string (nullable = true)\n",
      " |-- CONTRIB_FACTR_2_ID: string (nullable = true)\n",
      " |-- CONTRIB_FACTR_P1_ID: string (nullable = true)\n",
      " |-- VEH_TRVL_DIR_ID: string (nullable = true)\n",
      " |-- FIRST_HARM_EVT_INV_ID: string (nullable = true)\n",
      " |-- INCAP_INJRY_CNT: string (nullable = true)\n",
      " |-- NONINCAP_INJRY_CNT: string (nullable = true)\n",
      " |-- POSS_INJRY_CNT: string (nullable = true)\n",
      " |-- NON_INJRY_CNT: string (nullable = true)\n",
      " |-- UNKN_INJRY_CNT: string (nullable = true)\n",
      " |-- TOT_INJRY_CNT: string (nullable = true)\n",
      " |-- DEATH_CNT: string (nullable = true)\n",
      " |-- total_casualties: double (nullable = true)\n",
      "\n"
     ]
    }
   ],
   "source": [
    "df_Units.printSchema()"
   ]
  },
  {
   "cell_type": "code",
   "execution_count": 110,
   "id": "996e11bf",
   "metadata": {},
   "outputs": [],
   "source": [
    "df_Units = df_Units.withColumn('TOT_CASUALTIES_CNT', df_Units[35] + df_Units[36])"
   ]
  },
  {
   "cell_type": "code",
   "execution_count": 111,
   "id": "728140e1",
   "metadata": {},
   "outputs": [
    {
     "data": {
      "text/plain": [
       "38"
      ]
     },
     "execution_count": 111,
     "metadata": {},
     "output_type": "execute_result"
    }
   ],
   "source": [
    "len(df_Units.columns)"
   ]
  },
  {
   "cell_type": "code",
   "execution_count": 115,
   "id": "6cc3966c",
   "metadata": {},
   "outputs": [
    {
     "name": "stdout",
     "output_type": "stream",
     "text": [
      "+-------------+---------+----------------+\n",
      "|TOT_INJRY_CNT|DEATH_CNT|total_casualties|\n",
      "+-------------+---------+----------------+\n",
      "|            0|        0|             0.0|\n",
      "|            0|        0|             0.0|\n",
      "|            0|        0|             0.0|\n",
      "|            0|        0|             0.0|\n",
      "|            0|        0|             0.0|\n",
      "|            1|        0|             1.0|\n",
      "|            1|        0|             1.0|\n",
      "|            0|        0|             0.0|\n",
      "|            0|        0|             0.0|\n",
      "|            0|        0|             0.0|\n",
      "|            0|        0|             0.0|\n",
      "|            0|        0|             0.0|\n",
      "|            0|        0|             0.0|\n",
      "|            0|        0|             0.0|\n",
      "|            0|        0|             0.0|\n",
      "|            1|        0|             1.0|\n",
      "|            0|        0|             0.0|\n",
      "|            0|        0|             0.0|\n",
      "|            0|        0|             0.0|\n",
      "|            0|        0|             0.0|\n",
      "|            0|        0|             0.0|\n",
      "|            0|        0|             0.0|\n",
      "|            0|        0|             0.0|\n",
      "|            0|        0|             0.0|\n",
      "|            1|        0|             1.0|\n",
      "|            0|        0|             0.0|\n",
      "|            0|        0|             0.0|\n",
      "|            0|        0|             0.0|\n",
      "|            0|        0|             0.0|\n",
      "|            0|        0|             0.0|\n",
      "|            0|        0|             0.0|\n",
      "|            0|        0|             0.0|\n",
      "|            0|        0|             0.0|\n",
      "|            0|        0|             0.0|\n",
      "|            0|        0|             0.0|\n",
      "|            0|        0|             0.0|\n",
      "|            0|        0|             0.0|\n",
      "|            0|        0|             0.0|\n",
      "|            0|        0|             0.0|\n",
      "|            0|        0|             0.0|\n",
      "+-------------+---------+----------------+\n",
      "only showing top 40 rows\n",
      "\n"
     ]
    }
   ],
   "source": [
    "df_Units.select(\"TOT_INJRY_CNT\", \"DEATH_CNT\", \"total_casualties\").show(40)"
   ]
  },
  {
   "cell_type": "code",
   "execution_count": 160,
   "id": "98dc9a5c",
   "metadata": {},
   "outputs": [],
   "source": [
    "# df = df_Units.na.drop(subset=[\"VEH_MAKE_ID\"])\n",
    "df = df_Units.filter(df.VEH_MAKE_ID != \"NA\")"
   ]
  },
  {
   "cell_type": "code",
   "execution_count": 161,
   "id": "b98066e0",
   "metadata": {},
   "outputs": [],
   "source": [
    "df = df.select(\"VEH_MAKE_ID\", \"total_casualties\").groupby(\"VEH_MAKE_ID\").sum(\"total_casualties\").orderBy(col(\"sum(total_casualties)\").desc())\n"
   ]
  },
  {
   "cell_type": "code",
   "execution_count": 162,
   "id": "61882730",
   "metadata": {},
   "outputs": [
    {
     "name": "stdout",
     "output_type": "stream",
     "text": [
      "+-------------+---------------------+\n",
      "|  VEH_MAKE_ID|sum(total_casualties)|\n",
      "+-------------+---------------------+\n",
      "|    CHEVROLET|               7024.0|\n",
      "|         FORD|               6992.0|\n",
      "|       TOYOTA|               4228.0|\n",
      "|        DODGE|               3146.0|\n",
      "|       NISSAN|               3118.0|\n",
      "|        HONDA|               2892.0|\n",
      "|          GMC|               1256.0|\n",
      "|      HYUNDAI|               1103.0|\n",
      "|          KIA|               1049.0|\n",
      "|         JEEP|                989.0|\n",
      "|     CHRYSLER|                956.0|\n",
      "|        MAZDA|                711.0|\n",
      "|   VOLKSWAGEN|                582.0|\n",
      "|      PONTIAC|                564.0|\n",
      "|        LEXUS|                523.0|\n",
      "|        BUICK|                521.0|\n",
      "|   MITSUBISHI|                510.0|\n",
      "|     CADILLAC|                498.0|\n",
      "|      MERCURY|                397.0|\n",
      "|MERCEDES-BENZ|                394.0|\n",
      "+-------------+---------------------+\n",
      "only showing top 20 rows\n",
      "\n"
     ]
    }
   ],
   "source": [
    "df.select(\"VEH_MAKE_ID\", \"sum(total_casualties)\").show()"
   ]
  },
  {
   "cell_type": "code",
   "execution_count": 136,
   "id": "836152f5",
   "metadata": {},
   "outputs": [],
   "source": [
    "df_top15 = df.limit(15)\n",
    "df_top5 = df.limit(5)\n",
    "df_top_5_15 = df_top15.subtract(df_top5)"
   ]
  },
  {
   "cell_type": "code",
   "execution_count": 133,
   "id": "38edff4e",
   "metadata": {},
   "outputs": [],
   "source": []
  },
  {
   "cell_type": "code",
   "execution_count": 168,
   "id": "3e0df2d0",
   "metadata": {},
   "outputs": [
    {
     "name": "stderr",
     "output_type": "stream",
     "text": [
      "                                                                                \r"
     ]
    }
   ],
   "source": [
    "temp = df_top_5_15.select(\"VEH_MAKE_ID\", \"sum(total_casualties)\").collect()"
   ]
  },
  {
   "cell_type": "code",
   "execution_count": 170,
   "id": "b7354ec1",
   "metadata": {},
   "outputs": [
    {
     "data": {
      "text/plain": [
       "'HONDA'"
      ]
     },
     "execution_count": 170,
     "metadata": {},
     "output_type": "execute_result"
    }
   ],
   "source": [
    "temp[0][0]"
   ]
  },
  {
   "cell_type": "code",
   "execution_count": 167,
   "id": "19a1d1ed",
   "metadata": {},
   "outputs": [
    {
     "name": "stdout",
     "output_type": "stream",
     "text": [
      "+-------------+\n",
      "|VEH_PARKED_FL|\n",
      "+-------------+\n",
      "|            N|\n",
      "|            N|\n",
      "|            N|\n",
      "|            N|\n",
      "|            N|\n",
      "|            N|\n",
      "|            N|\n",
      "|            N|\n",
      "|            N|\n",
      "|            N|\n",
      "|            Y|\n",
      "|            Y|\n",
      "|            N|\n",
      "|            N|\n",
      "|            N|\n",
      "|            N|\n",
      "|            N|\n",
      "|            Y|\n",
      "|            Y|\n",
      "|            Y|\n",
      "+-------------+\n",
      "only showing top 20 rows\n",
      "\n"
     ]
    }
   ],
   "source": [
    "df_Units.dropna(subset = [\"VEH_PARKED_FL\"]).select(\"VEH_PARKED_FL\").show()"
   ]
  },
  {
   "cell_type": "code",
   "execution_count": 290,
   "id": "b498eb9f",
   "metadata": {},
   "outputs": [
    {
     "name": "stdout",
     "output_type": "stream",
     "text": [
      "+--------+-----------------+-----------------+----------------------------+----------------+\n",
      "|CRASH_ID|VEH_DMAG_SCL_1_ID|VEH_DMAG_SCL_2_ID|FIN_RESP_TYPE_ID            |DAMAGED_PROPERTY|\n",
      "+--------+-----------------+-----------------+----------------------------+----------------+\n",
      "|14870169|DAMAGED 5        |NA               |PROOF OF LIABILITY INSURANCE|NONE            |\n",
      "|14894076|DAMAGED 5        |NA               |PROOF OF LIABILITY INSURANCE|NONE            |\n",
      "|14996273|DAMAGED 5        |NA               |PROOF OF LIABILITY INSURANCE|NONE            |\n",
      "|15232090|DAMAGED 5        |NA               |PROOF OF LIABILITY INSURANCE|NONE            |\n",
      "|15232090|DAMAGED 5        |DAMAGED 2        |PROOF OF LIABILITY INSURANCE|NONE            |\n",
      "|15249931|DAMAGED 6        |NA               |PROOF OF LIABILITY INSURANCE|NONE            |\n",
      "|15307513|DAMAGED 5        |NA               |PROOF OF LIABILITY INSURANCE|NONE            |\n",
      "+--------+-----------------+-----------------+----------------------------+----------------+\n",
      "\n"
     ]
    }
   ],
   "source": [
    "df_damages.join(df_Units, on=[\"CRASH_ID\"], how='inner').\\\n",
    "filter(((df_Units.VEH_DMAG_SCL_1_ID > \"DAMAGED 4\") & (~df_Units.VEH_DMAG_SCL_1_ID.isin([\"NA\", \"NO DAMAGE\", \"INVALID VALUE\"]))) | ((df_Units.VEH_DMAG_SCL_2_ID > \"DAMAGED 4\") & (~df_Units.VEH_DMAG_SCL_2_ID.isin([\"NA\", \"NO DAMAGE\", \"INVALID VALUE\"])))).\\\n",
    "filter(df_damages.DAMAGED_PROPERTY == \"NONE\").\\\n",
    "filter(col(\"FIN_RESP_TYPE_ID\").contains(\"PROOF OF LIABILITY INSURANCE\")).\\\n",
    "select(\"CRASH_ID\", \"VEH_DMAG_SCL_1_ID\", \"VEH_DMAG_SCL_2_ID\", \"FIN_RESP_TYPE_ID\", \"DAMAGED_PROPERTY\").show(truncate=False)"
   ]
  },
  {
   "cell_type": "code",
   "execution_count": null,
   "id": "db1d9f6d",
   "metadata": {},
   "outputs": [],
   "source": [
    "FIN_RESP_TYPE_ID"
   ]
  },
  {
   "cell_type": "code",
   "execution_count": 284,
   "id": "c07f098f",
   "metadata": {},
   "outputs": [
    {
     "name": "stdout",
     "output_type": "stream",
     "text": [
      "+-----------------+\n",
      "|VEH_DMAG_SCL_2_ID|\n",
      "+-----------------+\n",
      "|DAMAGED 4        |\n",
      "|INVALID VALUE    |\n",
      "|NA               |\n",
      "|DAMAGED 5        |\n",
      "|DAMAGED 1 MINIMUM|\n",
      "|DAMAGED 3        |\n",
      "|NO DAMAGE        |\n",
      "|DAMAGED 7 HIGHEST|\n",
      "|DAMAGED 2        |\n",
      "|DAMAGED 6        |\n",
      "+-----------------+\n",
      "\n"
     ]
    }
   ],
   "source": [
    "df_Units.select(\"VEH_DMAG_SCL_2_ID\").distinct().show(truncate=False)"
   ]
  },
  {
   "cell_type": "code",
   "execution_count": 268,
   "id": "9dfdaa3b",
   "metadata": {},
   "outputs": [],
   "source": [
    "df1 = df_Units.filter(~df_Units.VEH_DMAG_SCL_2_ID.isin([\"NA\", \"NO DAMAGE\", \"INVALID VALUE\"]) | ~df_Units.VEH_DMAG_SCL_1_ID.isin([\"NA\", \"NO DAMAGE\", \"INVALID VALUE\"])).\\\n",
    "filter(df_Units.VEH_DMAG_SCL_2_ID > \"DAMAGED 4\")"
   ]
  },
  {
   "cell_type": "code",
   "execution_count": 269,
   "id": "ecba3b7c",
   "metadata": {},
   "outputs": [],
   "source": [
    "df2 = df_damages.filter(df_damages.DAMAGED_PROPERTY == \"NONE\")"
   ]
  },
  {
   "cell_type": "code",
   "execution_count": 270,
   "id": "dbf566a1",
   "metadata": {},
   "outputs": [
    {
     "data": {
      "text/plain": [
       "159"
      ]
     },
     "execution_count": 270,
     "metadata": {},
     "output_type": "execute_result"
    }
   ],
   "source": [
    "df1.join(df2,  on=[\"CRASH_ID\"], how='inner').count()"
   ]
  },
  {
   "cell_type": "code",
   "execution_count": null,
   "id": "a76756a2",
   "metadata": {},
   "outputs": [],
   "source": []
  }
 ],
 "metadata": {
  "kernelspec": {
   "display_name": "Python 3 (ipykernel)",
   "language": "python",
   "name": "python3"
  },
  "language_info": {
   "codemirror_mode": {
    "name": "ipython",
    "version": 3
   },
   "file_extension": ".py",
   "mimetype": "text/x-python",
   "name": "python",
   "nbconvert_exporter": "python",
   "pygments_lexer": "ipython3",
   "version": "3.8.2"
  }
 },
 "nbformat": 4,
 "nbformat_minor": 5
}
